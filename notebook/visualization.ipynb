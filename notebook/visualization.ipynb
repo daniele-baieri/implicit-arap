{
 "cells": [
  {
   "cell_type": "code",
   "execution_count": 2,
   "metadata": {},
   "outputs": [],
   "source": [
    "import os\n",
    "import numpy as np\n",
    "import torch\n",
    "import torch.nn.functional as F\n",
    "import polyscope as ps\n",
    "import mcubes\n",
    "\n",
    "from tqdm.notebook import tqdm\n",
    "\n",
    "os.chdir('..')\n",
    "from iarap.model.neural_rtf import NeuralRTF, NeuralRTFConfig\n",
    "from iarap.model.neural_sdf import NeuralSDF, NeuralSDFConfig\n",
    "from iarap.utils.meshing import *\n",
    "\n",
    "ps.init()"
   ]
  },
  {
   "cell_type": "code",
   "execution_count": 12,
   "metadata": {},
   "outputs": [],
   "source": [
    "SDF_CKPT = 'assets/weights/sdf/dragon.pt'\n",
    "RTF_CKPT = ''\n",
    "NUM_PATCH_PTS = 100\n",
    "PATCH_RADIUS = 0.03\n",
    "SURFACE_SAMPLES = 100\n",
    "SPACE_SAMPLES = 0\n",
    "DEVICE = 'cuda' if torch.cuda.is_available() else 'cpu'\n"
   ]
  },
  {
   "cell_type": "code",
   "execution_count": 4,
   "metadata": {},
   "outputs": [],
   "source": [
    "sdf_model: NeuralSDF = NeuralSDFConfig().setup().to(DEVICE)\n",
    "rtf_model: NeuralRTF = NeuralRTFConfig().setup().to(DEVICE)\n",
    "\n",
    "if len(SDF_CKPT) > 0:\n",
    "    sdf_model.load_state_dict(torch.load(SDF_CKPT))\n",
    "\n",
    "if len(RTF_CKPT) > 0:\n",
    "    rtf_model.load_state_dict(torch.load(RTF_CKPT))"
   ]
  },
  {
   "cell_type": "code",
   "execution_count": 5,
   "metadata": {},
   "outputs": [
    {
     "data": {
      "application/vnd.jupyter.widget-view+json": {
       "model_id": "6d7579dcbdcc443b9ccf556bd341b657",
       "version_major": 2,
       "version_minor": 0
      },
      "text/plain": [
       "  0%|          | 0/448 [00:00<?, ?it/s]"
      ]
     },
     "metadata": {},
     "output_type": "display_data"
    }
   ],
   "source": [
    "steps = torch.linspace(-1.0, 1.0, 512, device=DEVICE)\n",
    "xx, yy, zz = torch.meshgrid(steps, steps, steps, indexing=\"ij\")\n",
    "volume = torch.vstack([xx.ravel(), yy.ravel(), zz.ravel()]).T.float()\n",
    "f_eval = []\n",
    "with torch.no_grad():\n",
    "    for sample in tqdm(torch.split(volume, 300000, dim=0)):\n",
    "        f_eval.append(sdf_model(sample.contiguous())['dist'].cpu().numpy())\n",
    "f_volume = np.concatenate(f_eval, axis=0).reshape(*([512] * 3))\n",
    "shape_verts, shape_faces = mcubes.marching_cubes(f_volume, 0.0)\n",
    "shape_verts /= 512 // 2\n",
    "shape_verts -= 1.0"
   ]
  },
  {
   "cell_type": "markdown",
   "metadata": {},
   "source": [
    "## Minor examples"
   ]
  },
  {
   "cell_type": "markdown",
   "metadata": {},
   "source": [
    "### Surface projection"
   ]
  },
  {
   "cell_type": "code",
   "execution_count": null,
   "metadata": {},
   "outputs": [],
   "source": [
    "initial = torch.tensor([[-0.7, 0.0, 0.0], \n",
    "                        [-0.6, 0.1, 0.0],\n",
    "                        [-0.5, 0.0, 0.3]], device=DEVICE)\n",
    "\n",
    "trajectory = [initial]\n",
    "offsets = []\n",
    "\n",
    "point = initial\n",
    "for it in range(5):\n",
    "    point_new = sdf_model.project_nearest(point)\n",
    "    trajectory.append(point_new)\n",
    "    offsets.append(point_new - point)\n",
    "    point = point_new\n",
    "\n",
    "offsets.append(torch.zeros_like(initial))\n",
    "trajectory = torch.cat(trajectory, dim=0).view(-1, 3).cpu().detach().numpy()\n",
    "offsets = torch.cat(offsets, dim=0).view(-1, 3).cpu().detach().numpy()"
   ]
  },
  {
   "cell_type": "code",
   "execution_count": null,
   "metadata": {},
   "outputs": [],
   "source": [
    "ps.register_surface_mesh(\"Input Shape\", shape_verts, shape_faces, enabled=True)\n",
    "traj_pc = ps.register_point_cloud(\"Trajectory\", trajectory, enabled=True)\n",
    "traj_pc.add_vector_quantity(\"Offsets\", offsets, vectortype='ambient', enabled=True)\n",
    "ps.show()\n",
    "ps.remove_all_structures()"
   ]
  },
  {
   "cell_type": "markdown",
   "metadata": {},
   "source": [
    "## Local Patch Meshing"
   ]
  },
  {
   "cell_type": "markdown",
   "metadata": {},
   "source": [
    "### Patch Sampling and Triangulation"
   ]
  },
  {
   "cell_type": "code",
   "execution_count": 6,
   "metadata": {},
   "outputs": [],
   "source": [
    "patches = {'vert': {}, 'triv': {}}\n",
    "sampling_methods = {'runif': sphere_random_uniform,\n",
    "                    'rnorm': sphere_gaussian_radius,\n",
    "                    'linear': sphere_sunflower,\n",
    "                    'normal': gaussian_max_norm}"
   ]
  },
  {
   "cell_type": "code",
   "execution_count": 13,
   "metadata": {},
   "outputs": [],
   "source": [
    "i = 0\n",
    "for name, sampler in sampling_methods.items():\n",
    "    patch = get_patch_mesh(sampler, delaunay, NUM_PATCH_PTS, PATCH_RADIUS, DEVICE)\n",
    "    patches['vert'][name] = patch[0].cpu().numpy()\n",
    "    patches['vert'][name][:, 0] += PATCH_RADIUS * (2.2 * i)\n",
    "    patches['triv'][name] = patch[1].cpu().numpy()\n",
    "    i += 1"
   ]
  },
  {
   "cell_type": "code",
   "execution_count": 14,
   "metadata": {},
   "outputs": [],
   "source": [
    "for name in sampling_methods.keys():\n",
    "    ps.register_surface_mesh(f\"{name}_patch\", patches['vert'][name], patches['triv'][name], enabled=True, edge_width=1)\n",
    "\n",
    "ps.show()\n",
    "ps.remove_all_structures()"
   ]
  },
  {
   "cell_type": "markdown",
   "metadata": {},
   "source": [
    "### Patch Projection"
   ]
  },
  {
   "cell_type": "code",
   "execution_count": null,
   "metadata": {},
   "outputs": [],
   "source": [
    "SELECTED_PATCH = 'runif'\n",
    "\n",
    "plane_coords, triangles = patches['vert'][SELECTED_PATCH], patches['triv'][SELECTED_PATCH]"
   ]
  },
  {
   "cell_type": "code",
   "execution_count": null,
   "metadata": {},
   "outputs": [],
   "source": [
    "surf_sample = sdf_model.sample_zero_level_set(SURFACE_SAMPLES, 0.05, 10000, (-1, 1), 5).detach()\n",
    "space_sample = torch.rand(SPACE_SAMPLES, 3, device=DEVICE) * 2 - 1\n",
    "samples = torch.cat([surf_sample, space_sample], dim=0).detach()"
   ]
  },
  {
   "cell_type": "code",
   "execution_count": null,
   "metadata": {},
   "outputs": [],
   "source": [
    "sdf_outs = sdf_model(samples, with_grad=True)\n",
    "sample_dist, patch_normals = sdf_outs['dist'], F.normalize(sdf_outs['grad'], dim=-1)\n",
    "tangent_planes = sdf_model.tangent_plane(samples).cpu().numpy()"
   ]
  },
  {
   "cell_type": "code",
   "execution_count": null,
   "metadata": {},
   "outputs": [],
   "source": [
    "tangent_coords = (np.expand_dims(tangent_planes, 1) @ plane_coords.reshape(1, -1, 3, 1)).squeeze() \n",
    "tangent_pts = tangent_coords + samples.unsqueeze(1).detach().cpu().numpy()\n",
    "triangles_all = np.expand_dims(triangles, 0) + (tangent_pts.shape[1] * np.arange(0, tangent_pts.shape[0]).reshape(-1, 1, 1))\n",
    "\n",
    "tangent_pts = tangent_pts.reshape(-1, 3)\n",
    "triangles_all = triangles_all.reshape(-1, 3)"
   ]
  },
  {
   "cell_type": "code",
   "execution_count": null,
   "metadata": {},
   "outputs": [],
   "source": [
    "ps.register_surface_mesh(\"Input Shape\", shape_verts, shape_faces, enabled=True, transparency=0.5)\n",
    "ps.register_surface_mesh(\"Projected Patches\", tangent_pts, triangles_all, enabled=True, edge_width=1.0)\n",
    "normals_pc = ps.register_point_cloud(\"Normal Origins\", samples.cpu().detach().numpy(), radius=0.0, enabled=True)\n",
    "normals_pc.add_vector_quantity(\"Patch Normals\", patch_normals.cpu().detach().numpy(), enabled=True)\n",
    "ps.show()\n",
    "ps.remove_all_structures()"
   ]
  },
  {
   "cell_type": "markdown",
   "metadata": {},
   "source": [
    "### Patch Fitting/Deformation"
   ]
  },
  {
   "cell_type": "code",
   "execution_count": null,
   "metadata": {},
   "outputs": [],
   "source": [
    "level_set_verts = torch.from_numpy(tangent_pts).to(DEVICE, torch.float)\n",
    "for it in range(5):\n",
    "    level_set_verts = sdf_model.project_level_sets(level_set_verts, sample_dist)\n",
    "level_set_verts = level_set_verts.cpu().detach().view(-1, 3).numpy()"
   ]
  },
  {
   "cell_type": "code",
   "execution_count": null,
   "metadata": {},
   "outputs": [],
   "source": [
    "ps.register_surface_mesh(\"Input Shape\", shape_verts, shape_faces, enabled=True, transparency=0.5)\n",
    "ps.register_surface_mesh(\"Deformed Patches\", level_set_verts, triangles_all, enabled=True, edge_width=1.0)\n",
    "normals_pc = ps.register_point_cloud(\"Normal Origins\", samples.cpu().detach().numpy(), radius=0.0, enabled=True)\n",
    "normals_pc.add_vector_quantity(\"Patch Normals\", patch_normals.cpu().detach().numpy(), enabled=True)\n",
    "ps.show()\n",
    "ps.remove_all_structures()"
   ]
  },
  {
   "cell_type": "markdown",
   "metadata": {},
   "source": [
    "### Adaptive Patch Subdivision"
   ]
  },
  {
   "cell_type": "code",
   "execution_count": null,
   "metadata": {},
   "outputs": [],
   "source": [
    "patch_vertices = level_set_verts.view(SURFACE_SAMPLES + SPACE_SAMPLES, NUM_PATCH_PTS, 3)\n",
    "tri_centers = patch_vertices[:, triangles].mean(dim=-2)\n",
    "center_sdf = sdf_model(tri_centers)['dist']"
   ]
  }
 ],
 "metadata": {
  "kernelspec": {
   "display_name": "sdfedit",
   "language": "python",
   "name": "python3"
  },
  "language_info": {
   "codemirror_mode": {
    "name": "ipython",
    "version": 3
   },
   "file_extension": ".py",
   "mimetype": "text/x-python",
   "name": "python",
   "nbconvert_exporter": "python",
   "pygments_lexer": "ipython3",
   "version": "3.10.13"
  }
 },
 "nbformat": 4,
 "nbformat_minor": 2
}
